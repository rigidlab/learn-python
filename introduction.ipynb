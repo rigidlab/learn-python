{
 "cells": [
  {
   "cell_type": "markdown",
   "metadata": {},
   "source": [
    "# Introduction"
   ]
  },
  {
   "cell_type": "markdown",
   "metadata": {},
   "source": [
    "## 0. Python language"
   ]
  },
  {
   "cell_type": "markdown",
   "metadata": {},
   "source": [
    "+ Python is a intepreted language which is different than a compiled language (C, C++, Java)\n",
    "+ You run a python script by using the python \"intepreter\": \n",
    "```bash\n",
    "python test.py\n",
    "```\n",
    "+ You can also start an Python interactive shell by typing python:\n",
    "```bash\n",
    "Python 3.8.5 (default, Jul 28 2020, 12:59:40) \n",
    "[GCC 9.3.0] on linux\n",
    "Type \"help\", \"copyright\", \"credits\" or \"license\" for more information.\n",
    ">>>\n",
    "```\n",
    "\n",
    "+ In a sense this Jupyter notebook is a Interactive shell, when you execute a cell in here, it executed each line in the cell\n",
    "+ Application of Python: \n",
    " + Data Analysis (pandas)\n",
    " + Test Automation (selenium)\n",
    " + Web Application (Flask, Django) \n",
    " + Robotics (Robot Operating System)\n",
    " \n",
    "Misc Notes:\n",
    " + Comment in Python start with # or in close in a triple quotes \"\"\" \"\"\""
   ]
  },
  {
   "cell_type": "code",
   "execution_count": 65,
   "metadata": {},
   "outputs": [
    {
     "data": {
      "text/plain": [
       "'\\nThis is a \\nmultiline comment\\nTest\\n'"
      ]
     },
     "execution_count": 65,
     "metadata": {},
     "output_type": "execute_result"
    }
   ],
   "source": [
    "# This is a 1 line comment\n",
    "\"\"\"\n",
    "This is a \n",
    "multiline comment\n",
    "Test\n",
    "\"\"\""
   ]
  },
  {
   "cell_type": "markdown",
   "metadata": {},
   "source": [
    "## 1. Print"
   ]
  },
  {
   "cell_type": "markdown",
   "metadata": {},
   "source": [
    "#### Printing string"
   ]
  },
  {
   "cell_type": "code",
   "execution_count": 74,
   "metadata": {},
   "outputs": [
    {
     "name": "stdout",
     "output_type": "stream",
     "text": [
      "Hello World\n"
     ]
    }
   ],
   "source": [
    "# 1.1 Print a string\n",
    "\n",
    "print('Hello World')"
   ]
  },
  {
   "cell_type": "code",
   "execution_count": 75,
   "metadata": {},
   "outputs": [
    {
     "name": "stdout",
     "output_type": "stream",
     "text": [
      "Hello World 2020 !\n"
     ]
    }
   ],
   "source": [
    "# 1.2 Print multiple items\n",
    "\n",
    "print('Hello World', 2020, '!')"
   ]
  },
  {
   "cell_type": "code",
   "execution_count": 78,
   "metadata": {},
   "outputs": [
    {
     "name": "stdout",
     "output_type": "stream",
     "text": [
      "Hello John. How are you?\n"
     ]
    }
   ],
   "source": [
    "# 1.3 Print string formatting with {} brackets\n",
    "\n",
    "print('Hello {}. How are you?'.format('John'))"
   ]
  },
  {
   "cell_type": "code",
   "execution_count": null,
   "metadata": {},
   "outputs": [],
   "source": [
    "print('Hello {}. How is {} doing ?'.format('John','Rebecca'))"
   ]
  },
  {
   "cell_type": "markdown",
   "metadata": {},
   "source": [
    "#### Printing Number"
   ]
  },
  {
   "cell_type": "code",
   "execution_count": 81,
   "metadata": {},
   "outputs": [
    {
     "name": "stdout",
     "output_type": "stream",
     "text": [
      "Pi number is 3.141516 !!\n"
     ]
    }
   ],
   "source": [
    "# Similar to string\n",
    "\n",
    "print('Pi number is {} !!'.format(3.141516))"
   ]
  },
  {
   "cell_type": "code",
   "execution_count": 80,
   "metadata": {
    "scrolled": true
   },
   "outputs": [
    {
     "name": "stdout",
     "output_type": "stream",
     "text": [
      "Pi number is 3.14 !!\n"
     ]
    }
   ],
   "source": [
    "# Formatting the number of digits\n",
    "\n",
    "print('Pi number is {:.2f} !!'.format(3.141516))"
   ]
  },
  {
   "cell_type": "code",
   "execution_count": 83,
   "metadata": {},
   "outputs": [
    {
     "name": "stdout",
     "output_type": "stream",
     "text": [
      "My bank account has 1,234.75 $\n"
     ]
    }
   ],
   "source": [
    "# Money with the commas , \n",
    "\n",
    "print('My bank account has {:,.2f} $'.format(1234.75))"
   ]
  },
  {
   "cell_type": "code",
   "execution_count": 84,
   "metadata": {},
   "outputs": [
    {
     "name": "stdout",
     "output_type": "stream",
     "text": [
      "My bank account has $1234.75. I spend $20 a day\n"
     ]
    }
   ],
   "source": [
    "# Format with dictionary\n",
    "\n",
    "print('My bank account has ${account}. I spend ${spending} a day'.format(account=1234.75,spending=20))"
   ]
  },
  {
   "cell_type": "markdown",
   "metadata": {},
   "source": [
    "## 2. Variables"
   ]
  },
  {
   "cell_type": "markdown",
   "metadata": {},
   "source": [
    "There are a couple of variable types\n",
    "+ Number \n",
    "+ String\n",
    "+ Boolean\n",
    "+ List, Tuples \n",
    "+ Dictionary\n",
    "+ Function\n",
    "+ Class\n",
    "\n",
    "No space is allowed in a variable names. For long variables name, use underscore (_) to separate them. Ex: spending_per_month, income_per_year"
   ]
  },
  {
   "cell_type": "markdown",
   "metadata": {},
   "source": [
    "If you want to find out a variable type, use type"
   ]
  },
  {
   "cell_type": "code",
   "execution_count": 59,
   "metadata": {},
   "outputs": [
    {
     "name": "stdout",
     "output_type": "stream",
     "text": [
      "<class 'int'>\n"
     ]
    }
   ],
   "source": [
    "x=1\n",
    "print(type(x))"
   ]
  },
  {
   "cell_type": "markdown",
   "metadata": {},
   "source": [
    "### 2.1 Number"
   ]
  },
  {
   "cell_type": "code",
   "execution_count": null,
   "metadata": {},
   "outputs": [],
   "source": [
    "income=1000            # Income per month\n",
    "spending_per_day=20    # spending per day\n",
    "days=30                # Days per month"
   ]
  },
  {
   "cell_type": "markdown",
   "metadata": {},
   "source": [
    "You can print a variable "
   ]
  },
  {
   "cell_type": "code",
   "execution_count": null,
   "metadata": {},
   "outputs": [],
   "source": [
    "print(income)"
   ]
  },
  {
   "cell_type": "markdown",
   "metadata": {},
   "source": [
    "You can put it in a formatting using the {} bracket"
   ]
  },
  {
   "cell_type": "code",
   "execution_count": 60,
   "metadata": {},
   "outputs": [
    {
     "name": "stdout",
     "output_type": "stream",
     "text": [
      "My income is: $1000\n",
      "My spending per day is: $20\n"
     ]
    }
   ],
   "source": [
    "print('My income is: ${}'.format(income))\n",
    "print('My spending per day is: ${}'.format(spending_per_day))"
   ]
  },
  {
   "cell_type": "markdown",
   "metadata": {},
   "source": [
    "You can perform calculation on number and variables. Some notes\n",
    "+ \\* is multiply\n",
    "+ \\** is to the power of"
   ]
  },
  {
   "cell_type": "code",
   "execution_count": 100,
   "metadata": {},
   "outputs": [
    {
     "name": "stdout",
     "output_type": "stream",
     "text": [
      "600\n"
     ]
    }
   ],
   "source": [
    "total_spending=20 * 30\n",
    "print(total_spending)"
   ]
  },
  {
   "cell_type": "code",
   "execution_count": null,
   "metadata": {},
   "outputs": [],
   "source": [
    "total_spending=spending_per_day * days\n",
    "print(total_spending)"
   ]
  },
  {
   "cell_type": "markdown",
   "metadata": {},
   "source": [
    "### 2.4 Boolean"
   ]
  },
  {
   "cell_type": "markdown",
   "metadata": {},
   "source": [
    "Boolean has only two possible values: True and False \n",
    "(Notice the capital letter T and F)"
   ]
  },
  {
   "cell_type": "code",
   "execution_count": 97,
   "metadata": {},
   "outputs": [],
   "source": [
    "a = True\n",
    "b = False"
   ]
  },
  {
   "cell_type": "code",
   "execution_count": 102,
   "metadata": {},
   "outputs": [
    {
     "name": "stdout",
     "output_type": "stream",
     "text": [
      "False\n",
      "True\n",
      "False\n"
     ]
    }
   ],
   "source": [
    "# Boolean is useful for comparison: ==, >, <\n",
    "\n",
    "x = 1\n",
    "y = 2\n",
    "\n",
    "print(x==y)\n",
    "print(x<y)\n",
    "print(x>y)"
   ]
  },
  {
   "cell_type": "code",
   "execution_count": 101,
   "metadata": {},
   "outputs": [
    {
     "name": "stdout",
     "output_type": "stream",
     "text": [
      "False\n"
     ]
    }
   ],
   "source": [
    "# You can also store it in another variable\n",
    "x_equal_y = (x==y)\n",
    "print(x_equal_y)"
   ]
  },
  {
   "cell_type": "markdown",
   "metadata": {},
   "source": [
    "### 2.3 String"
   ]
  },
  {
   "cell_type": "code",
   "execution_count": 87,
   "metadata": {},
   "outputs": [],
   "source": [
    "#You can use ',\", \"\"\" to create string variable\n",
    "\n",
    "a = 'Hello World'\n",
    "b = \"Python is awesome\"\n",
    "c = \"\"\"Today is Monday\"\"\""
   ]
  },
  {
   "cell_type": "code",
   "execution_count": 89,
   "metadata": {
    "scrolled": true
   },
   "outputs": [
    {
     "name": "stdout",
     "output_type": "stream",
     "text": [
      "\n",
      "Today is Monday. \n",
      "The time now is '2020-01-25'\n",
      "\n"
     ]
    }
   ],
   "source": [
    "#\"\"\" allow for multiline string. This is useful to store a help message\n",
    "\n",
    "help_msg = \"\"\"\n",
    "Today is Monday. \n",
    "The time now is '2020-01-25'\n",
    "\"\"\"\n",
    "print(help_msg)"
   ]
  },
  {
   "cell_type": "code",
   "execution_count": 90,
   "metadata": {},
   "outputs": [
    {
     "name": "stdout",
     "output_type": "stream",
     "text": [
      "Hello World\n"
     ]
    }
   ],
   "source": [
    "# Add 2 string together \n",
    "\n",
    "a = 'Hello '\n",
    "b = 'World'\n",
    "c = a + b\n",
    "print(c)"
   ]
  },
  {
   "cell_type": "code",
   "execution_count": 91,
   "metadata": {},
   "outputs": [
    {
     "name": "stdout",
     "output_type": "stream",
     "text": [
      "Hello World !\n"
     ]
    }
   ],
   "source": [
    "# You can event store a formatted string\n",
    "\n",
    "a = 'Hello {} !'\n",
    "b = 'World'\n",
    "c = a.format(b)\n",
    "print(c)"
   ]
  },
  {
   "cell_type": "code",
   "execution_count": 93,
   "metadata": {},
   "outputs": [
    {
     "name": "stdout",
     "output_type": "stream",
     "text": [
      "1\n",
      "5\n"
     ]
    }
   ],
   "source": [
    "# You can access a string element using [] bracket\n",
    "\n",
    "a = '12345'   # This is a string. Notice the single quotes\n",
    "\n",
    "# First element start with 0 index\n",
    "print(a[0])\n",
    "\n",
    "# Last element \n",
    "print(a[-1])"
   ]
  },
  {
   "cell_type": "code",
   "execution_count": 104,
   "metadata": {},
   "outputs": [
    {
     "name": "stdout",
     "output_type": "stream",
     "text": [
      "True\n",
      "False\n"
     ]
    }
   ],
   "source": [
    "# Checking if a string is in another string, the result is a boolean\n",
    "\n",
    "a = 'Hello World!'\n",
    "b = 'World' \n",
    "c = '2020'\n",
    "\n",
    "print(b in a)\n",
    "print(c in a)"
   ]
  },
  {
   "cell_type": "markdown",
   "metadata": {},
   "source": [
    "### 2.3 List"
   ]
  },
  {
   "cell_type": "code",
   "execution_count": 119,
   "metadata": {},
   "outputs": [
    {
     "name": "stdout",
     "output_type": "stream",
     "text": [
      "5\n"
     ]
    }
   ],
   "source": [
    "# Use square bracket to declare a list\n",
    "\n",
    "l = [1,2,3,4,5]\n",
    "\n",
    "# You can use multiple variables type in a list\n",
    "\n",
    "l = [1,2,'three',4,5]\n",
    "\n",
    "# The len of the list\n",
    "\n",
    "n=len(l)\n",
    "print(n)"
   ]
  },
  {
   "cell_type": "code",
   "execution_count": 125,
   "metadata": {},
   "outputs": [
    {
     "name": "stdout",
     "output_type": "stream",
     "text": [
      "1\n",
      "4\n",
      "5\n",
      "5\n"
     ]
    }
   ],
   "source": [
    "# You can access a list element via [], starting with zero to len - 1\n",
    "\n",
    "print(l[0])\n",
    "print(l[3])\n",
    "\n",
    "# Last element is index -1\n",
    "print(l[-1])\n",
    "\n",
    "# Another way to get the last element is get the length\n",
    "n=len(l)\n",
    "print(l[n-1])"
   ]
  },
  {
   "cell_type": "code",
   "execution_count": 133,
   "metadata": {},
   "outputs": [
    {
     "name": "stdout",
     "output_type": "stream",
     "text": [
      "[1, 2, 3, 4, 5, 6]\n"
     ]
    }
   ],
   "source": [
    "# Append an element to a list at the end\n",
    "\n",
    "l = [1,2,3,4,5]\n",
    "l.append(6)\n",
    "print(l)"
   ]
  },
  {
   "cell_type": "code",
   "execution_count": 143,
   "metadata": {},
   "outputs": [
    {
     "name": "stdout",
     "output_type": "stream",
     "text": [
      "[1, 2, 3, 4, 5, 20, 100]\n",
      "[20, 100, 1, 2, 3, 4, 5]\n"
     ]
    }
   ],
   "source": [
    "# Add 2 list together\n",
    "\n",
    "l1=[1,2,3,4,5]\n",
    "l2=[20,100]\n",
    "l3=l1+l2\n",
    "l4=l2+l1\n",
    "print(l3)\n",
    "print(l4)\n"
   ]
  },
  {
   "cell_type": "code",
   "execution_count": 139,
   "metadata": {},
   "outputs": [
    {
     "name": "stdout",
     "output_type": "stream",
     "text": [
      "True\n",
      "False\n"
     ]
    }
   ],
   "source": [
    "# Check if a element is in a list\n",
    "\n",
    "l = [1,2,3,4,5]\n",
    "\n",
    "print(1 in l)\n",
    "print('one' in l)"
   ]
  },
  {
   "cell_type": "code",
   "execution_count": 137,
   "metadata": {},
   "outputs": [
    {
     "name": "stdout",
     "output_type": "stream",
     "text": [
      "{1, 2, 3, 4, 5}\n"
     ]
    }
   ],
   "source": [
    "# Get unique values of a list:\n",
    "\n",
    "l = [1,2,2,3,3,4,5]\n",
    "u=set(l)\n",
    "print(u)"
   ]
  },
  {
   "cell_type": "code",
   "execution_count": 111,
   "metadata": {},
   "outputs": [
    {
     "name": "stdout",
     "output_type": "stream",
     "text": [
      "[1, 0, 0]\n",
      "1\n"
     ]
    }
   ],
   "source": [
    "# List of list\n",
    "\n",
    "coordinates=[ [1,0,0] ,\n",
    "              [0,1,0] ,\n",
    "              [0,0,1] ]\n",
    "\n",
    "print(coordinates[0])\n",
    "print(coordinates[1][1])"
   ]
  },
  {
   "cell_type": "markdown",
   "metadata": {},
   "source": [
    "### 2.4 Assign variable values to itself"
   ]
  },
  {
   "cell_type": "code",
   "execution_count": 146,
   "metadata": {},
   "outputs": [
    {
     "name": "stdout",
     "output_type": "stream",
     "text": [
      "3\n"
     ]
    }
   ],
   "source": [
    "# Number incrementing\n",
    "\n",
    "x=1\n",
    "x=x+2\n",
    "print(x)"
   ]
  },
  {
   "cell_type": "code",
   "execution_count": 148,
   "metadata": {},
   "outputs": [
    {
     "name": "stdout",
     "output_type": "stream",
     "text": [
      "3\n"
     ]
    }
   ],
   "source": [
    "# Another way to write it\n",
    "\n",
    "x=1\n",
    "x+=2\n",
    "print(x)"
   ]
  },
  {
   "cell_type": "markdown",
   "metadata": {},
   "source": [
    "## 3. Conditional and Loop"
   ]
  },
  {
   "cell_type": "markdown",
   "metadata": {},
   "source": [
    "### 3.1 Conditional"
   ]
  },
  {
   "cell_type": "code",
   "execution_count": 106,
   "metadata": {},
   "outputs": [
    {
     "name": "stdout",
     "output_type": "stream",
     "text": [
      "You still have some money left boss\n"
     ]
    }
   ],
   "source": [
    "# if / elif / else\n",
    "\n",
    "income = 1000\n",
    "spending = 1200\n",
    "account = spending - income \n",
    "\n",
    "if account == 0:\n",
    "    print('You have no money left')\n",
    "elif account < 0:\n",
    "    print('You have negative $$')\n",
    "else:\n",
    "    print('You still have some money left boss')"
   ]
  },
  {
   "cell_type": "code",
   "execution_count": 153,
   "metadata": {},
   "outputs": [
    {
     "name": "stdout",
     "output_type": "stream",
     "text": [
      "True\n",
      "You have no money left\n",
      "You have no money left (using implicit)\n"
     ]
    }
   ],
   "source": [
    "# You check against a variable\n",
    "account = 0\n",
    "\n",
    "\n",
    "# account_zero is a boolean variable\n",
    "account_zero = (account==0)\n",
    "print(account_zero)\n",
    "\n",
    "# Check a boolean variable\n",
    "if account_zero == True :\n",
    "    print('You have no money left')\n",
    "    \n",
    "# Implicit check:\n",
    "if account_zero:\n",
    "    print('You have no money left (using implicit)')"
   ]
  },
  {
   "cell_type": "markdown",
   "metadata": {},
   "source": [
    "### 3.2 Loop"
   ]
  },
  {
   "cell_type": "code",
   "execution_count": 131,
   "metadata": {},
   "outputs": [
    {
     "name": "stdout",
     "output_type": "stream",
     "text": [
      "1\n",
      "2\n",
      "3\n",
      "4\n",
      "5\n",
      "-------\n",
      "1\n",
      "2\n",
      "3\n",
      "4\n",
      "5\n"
     ]
    }
   ],
   "source": [
    "## for loop \n",
    "\n",
    "account_list=[1,2,3,4,5]\n",
    "\n",
    "# Loop through a list \n",
    "for account in account_list:\n",
    "    print(account)\n",
    "    \n",
    "print(\"-------\")\n",
    "\n",
    "# You can use any variable name after \"for\"\n",
    "for a in account_list:\n",
    "    print(a)"
   ]
  },
  {
   "cell_type": "code",
   "execution_count": 154,
   "metadata": {},
   "outputs": [],
   "source": [
    "## Loop through a dictionary"
   ]
  }
 ],
 "metadata": {
  "kernelspec": {
   "display_name": "Python 3",
   "language": "python",
   "name": "python3"
  },
  "language_info": {
   "codemirror_mode": {
    "name": "ipython",
    "version": 3
   },
   "file_extension": ".py",
   "mimetype": "text/x-python",
   "name": "python",
   "nbconvert_exporter": "python",
   "pygments_lexer": "ipython3",
   "version": "3.8.5"
  }
 },
 "nbformat": 4,
 "nbformat_minor": 4
}
